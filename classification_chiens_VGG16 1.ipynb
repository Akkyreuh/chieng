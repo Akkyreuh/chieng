{
 "cells": [
  {
   "cell_type": "code",
   "execution_count": 11,
   "id": "7d3101ec",
   "metadata": {},
   "outputs": [],
   "source": [
    "import torch\n",
    "from PIL import Image\n",
    "from transformers import AutoImageProcessor, AutoModelForImageClassification\n",
    "import pandas as pd\n",
    "import os\n"
   ]
  },
  {
   "cell_type": "code",
   "execution_count": 12,
   "id": "c5f83c4a",
   "metadata": {},
   "outputs": [
    {
     "name": "stdout",
     "output_type": "stream",
     "text": [
      "   class_index        class_name\n",
      "0            0         Chihuahua\n",
      "1            1  Japanese_spaniel\n",
      "2            2       Maltese_dog\n",
      "3            3          Pekinese\n",
      "4            4               Tzu\n"
     ]
    }
   ],
   "source": [
    "images_dir = r\"C:\\Users\\lucas\\Documents\\IPSSI\\IA Cours\\Projet\\images\"\n",
    "class_folders = [name for name in os.listdir(images_dir) if os.path.isdir(os.path.join(images_dir, name))]\n",
    "\n",
    "# Permet de nettoyer les noms en supprimant les 'n02..' devant le nom des dossiers\n",
    "cleaned_names = [name.split('-')[-1] for name in class_folders]\n",
    "\n",
    "# Créer un DataFrame avec la liste récup\n",
    "df_classes = pd.DataFrame({\n",
    "    \"class_index\": range(len(cleaned_names)),\n",
    "    \"class_name\": cleaned_names\n",
    "})\n",
    "\n",
    "# Sauvegarder dans un fichier CSV si nécessaire \n",
    "df_classes.to_csv(\"class_mapping.csv\", index=False)\n",
    "\n",
    "#Check\n",
    "print(df_classes.head())\n"
   ]
  },
  {
   "cell_type": "code",
   "execution_count": 16,
   "id": "fdead933",
   "metadata": {},
   "outputs": [],
   "source": [
    "#On peut juste utiliser le df mais utilisation du csv ici pour le test \n",
    "mapping_path = r\"C:\\Users\\lucas\\Documents\\IPSSI\\IA Cours\\Projet\\class_mapping.csv\"\n",
    "df_classes = pd.read_csv(mapping_path)\n",
    "class_names = df_classes.sort_values(\"class_index\")[\"class_name\"].tolist()"
   ]
  },
  {
   "cell_type": "markdown",
   "id": "5c1f3cff",
   "metadata": {},
   "source": [
    "On récupère un modèle déjà préentrainé "
   ]
  },
  {
   "cell_type": "code",
   "execution_count": 13,
   "id": "d59d16d5",
   "metadata": {},
   "outputs": [],
   "source": [
    "model_name = \"anonauthors/stanford_dogs-resnet50\"\n",
    "processor = AutoImageProcessor.from_pretrained(model_name)\n",
    "model = AutoModelForImageClassification.from_pretrained(model_name)\n",
    "\n",
    "#Lien du modèle : https://huggingface.co/anonauthors/stanford_dogs-resnet50/blob/main/config.json"
   ]
  },
  {
   "cell_type": "code",
   "execution_count": 14,
   "id": "7b6469f2",
   "metadata": {},
   "outputs": [],
   "source": [
    "# Juste pour le test, à remplacer par un input plus tard quand on l'intégrera\n",
    "\n",
    "img_path = r\"C:\\Users\\lucas\\Documents\\IPSSI\\IA Cours\\Projet\\images\\n02112706-Brabancon_griffon\\n02112706_16.jpg\"\n",
    "image = Image.open(img_path).convert(\"RGB\")\n",
    "inputs = processor(images=image, return_tensors=\"pt\")"
   ]
  },
  {
   "cell_type": "code",
   "execution_count": 17,
   "id": "18db3960",
   "metadata": {},
   "outputs": [
    {
     "name": "stdout",
     "output_type": "stream",
     "text": [
      "Classe prédite : **Brabancon_griffon** (probabilité : 0.95)\n"
     ]
    }
   ],
   "source": [
    "with torch.no_grad():\n",
    "    outputs = model(**inputs)\n",
    "    logits = outputs.logits\n",
    "    idx = logits.argmax(-1).item()\n",
    "    prob = torch.softmax(logits, dim=1)[0, idx].item()\n",
    "\n",
    "pred_label = class_names[idx]\n",
    "print(f\"Classe prédite : **{pred_label}** (probabilité : {prob:.2f})\")\n"
   ]
  }
 ],
 "metadata": {
  "kernelspec": {
   "display_name": "Python 3",
   "language": "python",
   "name": "python3"
  },
  "language_info": {
   "codemirror_mode": {
    "name": "ipython",
    "version": 3
   },
   "file_extension": ".py",
   "mimetype": "text/x-python",
   "name": "python",
   "nbconvert_exporter": "python",
   "pygments_lexer": "ipython3",
   "version": "3.13.1"
  }
 },
 "nbformat": 4,
 "nbformat_minor": 5
}
